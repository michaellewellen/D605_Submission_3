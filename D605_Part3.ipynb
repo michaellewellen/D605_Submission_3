{
 "cells": [
  {
   "cell_type": "code",
   "execution_count": 4,
   "id": "c2066b16-db63-4b17-a6d4-343c54897196",
   "metadata": {},
   "outputs": [
    {
     "ename": "ModuleNotFoundError",
     "evalue": "No module named 'pulp'",
     "output_type": "error",
     "traceback": [
      "\u001b[1;31m---------------------------------------------------------------------------\u001b[0m",
      "\u001b[1;31mModuleNotFoundError\u001b[0m                       Traceback (most recent call last)",
      "Cell \u001b[1;32mIn[4], line 2\u001b[0m\n\u001b[0;32m      1\u001b[0m \u001b[38;5;66;03m# Necessary libraries for this project.  We will be using PuLP for our linear programming:\u001b[39;00m\n\u001b[1;32m----> 2\u001b[0m \u001b[38;5;28;01mfrom\u001b[39;00m \u001b[38;5;21;01mpulp\u001b[39;00m \u001b[38;5;28;01mimport\u001b[39;00m \u001b[38;5;241m*\u001b[39m\n\u001b[0;32m      3\u001b[0m \u001b[38;5;28;01mimport\u001b[39;00m \u001b[38;5;21;01mpandas\u001b[39;00m \u001b[38;5;28;01mas\u001b[39;00m \u001b[38;5;21;01mpd\u001b[39;00m\n",
      "\u001b[1;31mModuleNotFoundError\u001b[0m: No module named 'pulp'"
     ]
    }
   ],
   "source": [
    "# Necessary libraries for this project.  We will be using PuLP for our linear programming:\n",
    "from pulp import *\n",
    "import pandas as pd"
   ]
  },
  {
   "cell_type": "code",
   "execution_count": 3,
   "id": "3c84d95c-6a41-41f6-9f00-20903eebfc68",
   "metadata": {},
   "outputs": [
    {
     "name": "stdout",
     "output_type": "stream",
     "text": [
      "66\n"
     ]
    }
   ],
   "source": [
    "# I couldn't think of a smooth way to convert a DOCX into meaningful data, so I am going to build these manually\n",
    "\n",
    "hubs = ['CVG', 'AFW']\n",
    "focus_cities = ['Leipzig', 'San Bernardino']  # Per professor, we are not treating 'Hyderabad' as a focus city, but rather as a center\n",
    "centers = ['Hyderabad','Paris','Cologne','Hanover','Bengaluru','Coimbatore','Delhi','Mumbai','Cagliari','Catania','Milan','Rome','Katowice','Barcelona','Madrid','Castle Donington','London',\n",
    "           'Mobile','Anchorage','Fairbanks','Phoenix','Los Angeles','Ontario','Riverside','Sacramento','San Francisco','Stockton','Denver','Hartford','Miami','Lakeland','Tampa','Atlanta',\n",
    "           'Honolulu','Kahului/Maui','Kona','Chicago','Chicago/Rockford','Fort Wayne','South Bend','Des Moines','Wichita','New Orleans','Baltimore','Minneapolis','Kansas City','St. Louis',\n",
    "           'Omaha','Manchester','Albuquerque','New York','Charlotte','Toledo','Wilmington','Portland','Allentown','Pittsburgh','San Juan','Nashville','Austin','Dallas/Fort Worth','Houston',\n",
    "           'San Antonio','Richmond','Seattle/Tacoma','Spokane']\n",
    "print(len(centers)) # Got all 66\n",
    "\n",
    "hub_capacity = {'CVG': 95650, 'AFW': 44350}\n",
    "focus_capacity = {'Leipzig': 85000, 'San Bernardino': 36000}\n",
    "\n",
    "demand = {\n",
    "    'Hyderabad': 0,'Paris': 6500 ,'Cologne': 640 ,'Hanover': 180 ,'Bangalore ': 9100 ,'Coimbatore': 570 ,'Delhi': 19000 ,'Mumbai': 14800 ,'Cagliari': 90 ,'Catania': 185 ,'Milan': 800 ,'Rome': 1700 ,'Katowice': 170 ,\n",
    "    'Barcelona': 2800 ,'Madrid': 3700 ,'Castle Donington': 30 ,'London': 6700 ,'Mobile': 190 ,'Anchorage': 175 ,'Fairbanks': 38 ,'Phoenix': 2400 ,'Los Angeles': 7200 ,'Ontario': 100 ,'Riverside': 1200 ,\n",
    "    'Sacramento': 1100 ,'San Francisco': 1900 ,'Stockton': 240 ,'Denver': 1500 ,'Hartford': 540 ,'Miami': 3400 ,'Lakeland': 185 ,'Tampa': 1600 ,'Atlanta': 3000 ,'Honolulu': 500 ,'Kahului/Maui': 16 ,\n",
    "    'Kona': 63 ,'Chicago': 5100 ,'Rockford': 172 ,'Fort Wayne': 200 ,'South Bend': 173 ,'Des Moines': 300 ,'Wichita': 290 ,'New Orleans': 550 ,'Baltimore': 1300 ,'Minneapolis': 1700 ,'Kansas City': 975 ,\n",
    "    'St. Louis': 1200 ,'Omaha': 480 ,'Manchester': 100 ,'Albuquerque': 450 ,'New York': 11200 ,'Charlotte': 900 ,'Toledo': 290 ,'Wilmington': 150 ,'Portland': 1200 ,'Allentown': 420 ,'Pittsburgh': 1000 ,\n",
    "    'San Juan': 1100 ,'Nashville': 650 ,'Austin': 975 ,'Dallas': 3300 ,'Houston': 3300 ,'San Antonio': 1100 ,'Richmond': 600 ,'Seattle/Tacoma': 2000 ,'Spokane': 260 \n",
    "}\n",
    "\n",
    "# Hub to focus city costs (Our X variables)\n",
    "costs_x = {\n",
    "    ('CVG', 'Leipzig'): 1.5, ('CVG', 'San Bernardino'): 0.5, ('AFW', 'San Bernardino'): 0.5\n",
    "}\n",
    "\n",
    "# Hub to center directly costs (Our y variables)\n",
    "costs_y = {\n",
    "    ('CVG', 'Paris'): 1.6, ('CVG', 'Cologne'): 1.5, ('CVG', 'Hanover'): 1.5,('CVG', 'Cagliari'): 1.5,('CVG', 'Catania'): 1.5,('CVG', 'Milan'): 1.5,('CVG', 'Rome'): 1.5,('CVG', 'Katowice'): 1.4,('CVG', 'Barcelona'): 1.5,\t\t\n",
    "    ('CVG', 'Madrid'): 1.6,('CVG', 'Castle Donington'): 1.4,('CVG', 'London'): 1.6,('CVG', 'Mobile'): 0.5,\t('AFW', 'Mobile'): 0.5,('CVG', 'Anchorage'): 1.3,('AFW', 'Anchorage'): 1,('CVG', 'Fairbanks'): 1.4,\t\n",
    "    ('AFW', 'Fairbanks'): 1,('CVG', 'Phoenix'): 0.5,\t('AFW', 'Phoenix'): 0.5,('CVG', 'Los Angeles'): 0.5,('AFW', 'Los Angeles'): 0.5,('CVG', 'Ontario'): 0.5,('AFW', 'Ontario'): 0.5,('CVG', 'Riverside'): 0.5,\t\n",
    "    ('AFW', 'Riverside'): 0.5,('CVG', 'Sacramento'): 0.5,('AFW', 'Sacramento'): 0.5,('CVG', 'San Francisco'): 0.5,('AFW', 'San Francisco'): 0.5,('CVG', 'Stockton'): 0.5,('AFW', 'Stockton'): 0.5,('CVG', 'Denver'): 0.5,\t\n",
    "    ('AFW', 'Denver'): 0.5,\t('CVG', 'Hartford'): 0.5,('AFW', 'Hartford'): 0.5,('CVG', 'Miami'): 0.5,('AFW', 'Miami'): 0.5,('CVG', 'Lakeland'): 0.5,('AFW', 'Lakeland'): 0.5,('CVG', 'Tampa'): 0.5,('AFW', 'Tampa'): 0.5,\t\n",
    "    ('CVG', 'Atlanta'): 0.5,('AFW', 'Atlanta'): 0.5,('AFW', 'Honolulu'): 0.5,('AFW', 'Kahului/Maui'): 0.5,('AFW', 'Kona'): 0.5,('CVG', 'Chicago'): 0.5,\t('AFW', 'Chicago'): 0.5,('CVG', 'Rockford'): 0.5,('AFW', 'Rockford'): 0.5,\t\n",
    "    ('CVG', 'Fort Wayne'): 0.5,('AFW', 'Fort Wayne'): 0.5,('CVG', 'South Bend'): 0.5,('AFW', 'South Bend'): 0.5,('CVG', 'Des Moines'): 0.5,\t('AFW', 'Des Moines'): 0.5,('CVG', 'Wichita'): 0.5,\t('AFW', 'Wichita'): 0.5,\t\n",
    "    ('CVG', 'New Orleans'): 0.5,('AFW', 'New Orleans'): 0.5,('CVG', 'Baltimore'): 0.5,\t('AFW', 'Baltimore'): 0.5,('CVG', 'Minneapolis'): 0.5,('AFW', 'Minneapolis'): 0.5,('CVG', 'Kansas City'): 0.5,('AFW', 'Kansas City'): 0.5,\t\n",
    "    ('CVG', 'St. Louis'): 0.5,('AFW', 'St. Louis'): 0.5,('CVG', 'Omaha'): 0.5,('AFW', 'Omaha'): 0.5,('CVG', 'Manchester'): 0.5,('AFW', 'Manchester'): 0.5,('CVG', 'Albuquerque'): 0.5,('AFW', 'Albuquerque'): 0.5,\t\n",
    "    ('CVG', 'New York'): 0.5,('AFW', 'New York'): 0.5, ('CVG', 'Charlotte'): 0.5,('AFW', 'Charlotte'): 0.5,('CVG', 'Toledo'): 0.5,('AFW', 'Toledo'): 0.5,('CVG', 'Wilmington'): 0.5,\t('AFW', 'Wilmington'): 0.5,\t\n",
    "    ('CVG', 'Portland'): 0.5,('AFW', 'Portland'): 0.5,('CVG', 'Allentown'): 0.5,('AFW', 'Allentown'): 0.5,('CVG', 'Pittsburgh'): 0.5,('AFW', 'Pittsburgh'): 0.5,('CVG', 'San Juan'): 0.5,('AFW', 'San Juan'): 0.5,\t\n",
    "    ('CVG', 'Nashville'): 0.5,('AFW', 'Nashville'): 0.5,('CVG', 'Austin'): 0.5,\t('AFW', 'Austin'): 0.25,('CVG', 'Dallas/Fort Worth'): 0.5,('CVG', 'Houston'): 0.5,('AFW', 'Houston'): 0.25,('CVG', 'San Antonio'): 0.5,\n",
    "    ('AFW', 'San Antonio'): 0.25,('CVG', 'Richmond'): 0.5,('AFW', 'Richmond'): 0.5,('CVG', 'Seattle/Tacoma'): 0.5,\t('AFW', 'Seattle/Tacoma'): 0.5,\t('CVG', 'Spokane'): 0.5,\t('AFW', 'Spokane'): 0.5\n",
    "}\n",
    "\n",
    "# Focus City to center costs (Our z variables)\n",
    "\n",
    "costs_z = {\n",
    "    ('Leipzig', 'Paris'): 0.5,('Leipzig', 'Cologne'): 0.5,('Leipzig', 'Hanover'): 0.5,('Leipzig', 'Bengaluru'): 1.5,('Leipzig', 'Coimbatore'): 1.5,('Leipzig', 'Delhi'): 1.5,('Leipzig', 'Mumbai'): 1.5,\t\n",
    "    ('Leipzig', 'Cagliari'): 0.5,('Leipzig', 'Catania'): 0.5,('Leipzig', 'Milan'): 0.5,('Leipzig', 'Rome'): 0.5,('Leipzig', 'Katowice'): 0.5,('Leipzig', 'Barcelona'): 0.5,('Leipzig', 'Madrid'): 0.5,\t\n",
    "    ('Leipzig', 'Castle Donington'): 0.5,('Leipzig', 'London'): 0.75,('San Bernardino', 'Mobile'): 0.5,('San Bernardino', 'Anchorage'): 0.7,('San Bernardino', 'Fairbanks'): 0.7,('San Bernardino', 'Phoenix'): 0.5,\n",
    "\t('San Bernardino', 'Sacramento'): 0.5,('San Bernardino', 'San Francisco'): 0.5,('San Bernardino', 'Stockton'): 0.5,('San Bernardino', 'Denver'): 0.5,('Leipzig', 'Hartford'): 1.5,('San Bernardino', 'Hartford'): 0.5,\n",
    "\t('San Bernardino', 'Miami'): 0.7,('San Bernardino', 'Lakeland'): 0.7,('San Bernardino', 'Tampa'): 0.7,('San Bernardino', 'Atlanta'): 0.6,('San Bernardino', 'Honolulu'): 0.5,('San Bernardino', 'Kahului/Maui'): 0.5,\n",
    "\t('San Bernardino', 'Kona'): 0.5,('San Bernardino', 'Chicago'): 0.5,('San Bernardino', 'Rockford'): 0.5,('San Bernardino', 'Fort Wayne'): 0.5,('San Bernardino', 'South Bend'): 0.5,('San Bernardino', 'Des Moines'): 0.5,\n",
    "\t('San Bernardino', 'Wichita'): 0.5,('San Bernardino', 'New Orleans'): 0.5,('Leipzig', 'Baltimore'): 1.5,('San Bernardino', 'Baltimore'): 0.7,('San Bernardino', 'Minneapolis'): 0.5,('San Bernardino', 'Kansas City'): 0.5,\n",
    "\t('San Bernardino', 'St. Louis'): 0.5,('San Bernardino', 'Omaha'): 0.5,('Leipzig', 'Manchester'): 1.5,('San Bernardino', 'Manchester'): 0.7,('San Bernardino', 'Albuquerque'): 0.5,('Leipzig', 'New York'): 1.6,\t\n",
    "    ('San Bernardino', 'New York'): 0.7,('San Bernardino', 'Charlotte'): 0.7,('San Bernardino', 'Toledo'): 0.5,('San Bernardino', 'Wilmington'): 0.7,('San Bernardino', 'Portland'): 0.5,('Leipzig', 'Allentown'): 1.5,\t\n",
    "    ('San Bernardino', 'Allentown'): 0.7,('San Bernardino', 'Pittsburgh'): 0.6,('San Bernardino', 'San Juan'): 1,('San Bernardino', 'Nashville'): 0.5,('San Bernardino', 'Austin'): 0.5,('San Bernardino', 'Dallas/Fort Worth'): 0.5,\n",
    "\t('San Bernardino', 'Houston'): 0.5,('San Bernardino', 'San Antonio'): 0.5,('San Bernardino', 'Richmond'): 0.7,('San Bernardino', 'Seattle/Tacoma'): 0.5,('San Bernardino', 'Spokane'): 0.5, ('Leipzig', 'Hyderabad'): 1.6\n",
    "}\n",
    "\n",
    "\n",
    "\n"
   ]
  },
  {
   "cell_type": "code",
   "execution_count": null,
   "id": "6f792149-8b9d-484e-9cf0-304892d8c033",
   "metadata": {},
   "outputs": [],
   "source": []
  }
 ],
 "metadata": {
  "kernelspec": {
   "display_name": "Python 3 (ipykernel)",
   "language": "python",
   "name": "python3"
  },
  "language_info": {
   "codemirror_mode": {
    "name": "ipython",
    "version": 3
   },
   "file_extension": ".py",
   "mimetype": "text/x-python",
   "name": "python",
   "nbconvert_exporter": "python",
   "pygments_lexer": "ipython3",
   "version": "3.12.3"
  }
 },
 "nbformat": 4,
 "nbformat_minor": 5
}
